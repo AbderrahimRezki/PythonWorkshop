{
 "cells": [
  {
   "cell_type": "markdown",
   "metadata": {},
   "source": [
    "# Dictionaries"
   ]
  },
  {
   "cell_type": "markdown",
   "metadata": {},
   "source": [
    "Dictionaries can be seen as key value pairs <br>\n",
    "They are similar to C++ maps"
   ]
  },
  {
   "cell_type": "code",
   "execution_count": 38,
   "metadata": {},
   "outputs": [
    {
     "name": "stdout",
     "output_type": "stream",
     "text": [
      "{'Sonic': 999, 'Pacman': 10, 'Creeper': 20}\n",
      "{'OK': 200, 'NOT_FOUND': 404}\n",
      "{'available_colors': ['white', 'black'], 'available_sizes': ['S', 'L', 'XL'], 'seller_info': {'name': 'Mahmoud', 'phone number': '05283232332'}}\n"
     ]
    }
   ],
   "source": [
    "character_speed = {\n",
    "    \"Sonic\": 999,\n",
    "    \"Pacman\": 10,\n",
    "    \"Creeper\": 20\n",
    "}\n",
    "\n",
    "status_codes = dict(OK = 200, NOT_FOUND = 404)\n",
    "\n",
    "tshirt = {\n",
    "    \"available_colors\": [\"white\", \"black\"],\n",
    "    \"available_sizes\": [\"S\", \"L\", \"XL\"],\n",
    "    \"seller_info\": {\n",
    "        \"name\": \"Mahmoud\",\n",
    "        \"phone number\": \"05283232332\"\n",
    "    }\n",
    "}\n",
    "\n",
    "print(character_speed)\n",
    "print(status_codes)\n",
    "print(tshirt)"
   ]
  },
  {
   "cell_type": "markdown",
   "metadata": {},
   "source": [
    "To access some value using the key\n"
   ]
  },
  {
   "cell_type": "code",
   "execution_count": 17,
   "metadata": {},
   "outputs": [
    {
     "data": {
      "text/plain": [
       "20"
      ]
     },
     "execution_count": 17,
     "metadata": {},
     "output_type": "execute_result"
    }
   ],
   "source": [
    "character_speed[\"Creeper\"]"
   ]
  },
  {
   "cell_type": "markdown",
   "metadata": {},
   "source": [
    "What if that key does not exist?"
   ]
  },
  {
   "cell_type": "code",
   "execution_count": 18,
   "metadata": {},
   "outputs": [
    {
     "ename": "KeyError",
     "evalue": "'the flash'",
     "output_type": "error",
     "traceback": [
      "\u001b[0;31m---------------------------------------------------------------------------\u001b[0m",
      "\u001b[0;31mKeyError\u001b[0m                                  Traceback (most recent call last)",
      "Cell \u001b[0;32mIn[18], line 1\u001b[0m\n\u001b[0;32m----> 1\u001b[0m character_speed[\u001b[39m\"\u001b[39;49m\u001b[39mthe flash\u001b[39;49m\u001b[39m\"\u001b[39;49m]   \u001b[39m# KeyError: 'the flash'\u001b[39;00m\n",
      "\u001b[0;31mKeyError\u001b[0m: 'the flash'"
     ]
    }
   ],
   "source": [
    "character_speed[\"the flash\"]   # KeyError: 'the flash'"
   ]
  },
  {
   "cell_type": "markdown",
   "metadata": {},
   "source": [
    "An alternative way to access a value is get <br>\n",
    "You can provide it with a default value if an element is not found"
   ]
  },
  {
   "cell_type": "code",
   "execution_count": null,
   "metadata": {},
   "outputs": [
    {
     "data": {
      "text/plain": [
       "0"
      ]
     },
     "execution_count": 10,
     "metadata": {},
     "output_type": "execute_result"
    }
   ],
   "source": [
    "character_speed.get(\"the flash\", 0)"
   ]
  },
  {
   "cell_type": "markdown",
   "metadata": {},
   "source": [
    "To insert a key value pair"
   ]
  },
  {
   "cell_type": "code",
   "execution_count": 19,
   "metadata": {},
   "outputs": [
    {
     "data": {
      "text/plain": [
       "{'Sonic': 999, 'Pacman': 10, 'Creeper': 20, 'Goku': inf}"
      ]
     },
     "execution_count": 19,
     "metadata": {},
     "output_type": "execute_result"
    }
   ],
   "source": [
    "character_speed[\"Goku\"] = float(\"inf\")\n",
    "character_speed"
   ]
  },
  {
   "cell_type": "markdown",
   "metadata": {},
   "source": [
    "To delete an entry"
   ]
  },
  {
   "cell_type": "code",
   "execution_count": 20,
   "metadata": {},
   "outputs": [
    {
     "data": {
      "text/plain": [
       "{'Sonic': 999, 'Pacman': 10, 'Creeper': 20}"
      ]
     },
     "execution_count": 20,
     "metadata": {},
     "output_type": "execute_result"
    }
   ],
   "source": [
    "del character_speed[\"Goku\"]\n",
    "character_speed"
   ]
  },
  {
   "cell_type": "markdown",
   "metadata": {},
   "source": [
    "Or you can do this if you want to get the value that was deleted"
   ]
  },
  {
   "cell_type": "code",
   "execution_count": 21,
   "metadata": {},
   "outputs": [
    {
     "name": "stdout",
     "output_type": "stream",
     "text": [
      " 10 {'Sonic': 999, 'Creeper': 20}\n"
     ]
    }
   ],
   "source": [
    "deleted_value = character_speed.pop(\"Pacman\")"
   ]
  },
  {
   "cell_type": "code",
   "execution_count": 26,
   "metadata": {},
   "outputs": [
    {
     "name": "stdout",
     "output_type": "stream",
     "text": [
      "[deleted_value = 10] {'Sonic': 999, 'Creeper': 20}\n"
     ]
    }
   ],
   "source": [
    "print(f\"[{deleted_value = }]\", character_speed)"
   ]
  },
  {
   "cell_type": "markdown",
   "metadata": {},
   "source": [
    "Check if something is in the dictionary keys"
   ]
  },
  {
   "cell_type": "code",
   "execution_count": 27,
   "metadata": {},
   "outputs": [
    {
     "name": "stdout",
     "output_type": "stream",
     "text": [
      "False\n",
      "True\n"
     ]
    }
   ],
   "source": [
    "print(\"Pacman\" in character_speed)\n",
    "print(\"Sonic\" in character_speed)"
   ]
  },
  {
   "cell_type": "markdown",
   "metadata": {},
   "source": [
    "Get all the keys of a dictionary"
   ]
  },
  {
   "cell_type": "code",
   "execution_count": 28,
   "metadata": {},
   "outputs": [
    {
     "data": {
      "text/plain": [
       "dict_keys(['Sonic', 'Creeper'])"
      ]
     },
     "execution_count": 28,
     "metadata": {},
     "output_type": "execute_result"
    }
   ],
   "source": [
    "character_speed.keys()"
   ]
  },
  {
   "cell_type": "markdown",
   "metadata": {},
   "source": [
    "Get all values"
   ]
  },
  {
   "cell_type": "code",
   "execution_count": 29,
   "metadata": {},
   "outputs": [
    {
     "data": {
      "text/plain": [
       "dict_values([999, 20])"
      ]
     },
     "execution_count": 29,
     "metadata": {},
     "output_type": "execute_result"
    }
   ],
   "source": [
    "character_speed.values()"
   ]
  },
  {
   "cell_type": "markdown",
   "metadata": {},
   "source": [
    "Get all items as a list of (key, value)"
   ]
  },
  {
   "cell_type": "code",
   "execution_count": 30,
   "metadata": {},
   "outputs": [
    {
     "data": {
      "text/plain": [
       "dict_items([('Sonic', 999), ('Creeper', 20)])"
      ]
     },
     "execution_count": 30,
     "metadata": {},
     "output_type": "execute_result"
    }
   ],
   "source": [
    "character_speed.items()"
   ]
  }
 ],
 "metadata": {
  "kernelspec": {
   "display_name": "Python 3",
   "language": "python",
   "name": "python3"
  },
  "language_info": {
   "codemirror_mode": {
    "name": "ipython",
    "version": 3
   },
   "file_extension": ".py",
   "mimetype": "text/x-python",
   "name": "python",
   "nbconvert_exporter": "python",
   "pygments_lexer": "ipython3",
   "version": "3.11.6"
  },
  "orig_nbformat": 4
 },
 "nbformat": 4,
 "nbformat_minor": 2
}
