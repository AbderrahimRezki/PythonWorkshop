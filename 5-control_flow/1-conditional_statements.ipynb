{
 "cells": [
  {
   "cell_type": "markdown",
   "metadata": {},
   "source": [
    "# If statements"
   ]
  },
  {
   "cell_type": "markdown",
   "metadata": {},
   "source": [
    "## Simple if statement"
   ]
  },
  {
   "cell_type": "markdown",
   "metadata": {},
   "source": [
    "if condition: <br>\n",
    "&nbsp;&nbsp;&nbsp;&nbsp;do something <br>\n",
    "\n",
    "The statement inside the if bloc will only get executed if the condition is truthy <br>\n",
    "Truthy values are values that get evaluated to True, <br>\n",
    "They can be either True, non-zero number, non-empty string, non-empty list, ...etc<br>"
   ]
  },
  {
   "cell_type": "code",
   "execution_count": 1,
   "metadata": {},
   "outputs": [
    {
     "name": "stdout",
     "output_type": "stream",
     "text": [
      "x is positive\n"
     ]
    }
   ],
   "source": [
    "x = 2\n",
    "\n",
    "if x >= 0:\n",
    "    print(\"x is positive\")"
   ]
  },
  {
   "cell_type": "code",
   "execution_count": 2,
   "metadata": {},
   "outputs": [
    {
     "name": "stdout",
     "output_type": "stream",
     "text": [
      "yes\n"
     ]
    }
   ],
   "source": [
    "if -1:\n",
    "    print(\"yes\")"
   ]
  },
  {
   "cell_type": "code",
   "execution_count": 4,
   "metadata": {},
   "outputs": [],
   "source": [
    "if \"\": \n",
    "    print(\"Reach me if you can\")"
   ]
  },
  {
   "cell_type": "code",
   "execution_count": 12,
   "metadata": {},
   "outputs": [
    {
     "name": "stdout",
     "output_type": "stream",
     "text": [
      "Kick him out!\n"
     ]
    }
   ],
   "source": [
    "allowed_members = [\"Mohamed\", \"Yassine\", \"Karim\"]\n",
    "member = \"Gohan\"\n",
    "\n",
    "if member in allowed_members:\n",
    "    print(\"Let him in!\")\n",
    "\n",
    "# what if he is not ?\n",
    "if member not in allowed_members:\n",
    "    print(\"Kick him out!\")"
   ]
  },
  {
   "cell_type": "markdown",
   "metadata": {},
   "source": [
    "OK this works fine but here we had to negate the condition by ourselves<br>\n",
    "What if the condition was more complex?<br>\n",
    "something like: ((age > 20 and interest in interests) or (age <= 20 and age > 10 and intrest == \"conding\")) <br>"
   ]
  },
  {
   "cell_type": "markdown",
   "metadata": {},
   "source": [
    "## if else statements"
   ]
  },
  {
   "cell_type": "code",
   "execution_count": null,
   "metadata": {},
   "outputs": [],
   "source": [
    "if member in allowed_members:\n",
    "    print(\"Let him in!\")\n",
    "else:\n",
    "    print(\"Kick him out!\")"
   ]
  },
  {
   "cell_type": "markdown",
   "metadata": {},
   "source": [
    "This is much more readable and we don't have to add that extra pain to ourselves"
   ]
  },
  {
   "cell_type": "markdown",
   "metadata": {},
   "source": [
    "## if elif else statements"
   ]
  },
  {
   "cell_type": "code",
   "execution_count": 14,
   "metadata": {},
   "outputs": [
    {
     "name": "stdout",
     "output_type": "stream",
     "text": [
      "Keep him away\n"
     ]
    }
   ],
   "source": [
    "if member in allowed_members:\n",
    "    print(\"Let him in!\")\n",
    "elif len(member) > 20:\n",
    "    print(\"Sorry, This name is too long to be registered in our system!\")\n",
    "elif len(member) < 3:\n",
    "    print(\"This cannot be real!\")\n",
    "else:\n",
    "    print(\"Keep him away\")"
   ]
  },
  {
   "cell_type": "markdown",
   "metadata": {},
   "source": [
    "## Python has match case which is similar to C++'s switch case"
   ]
  },
  {
   "cell_type": "markdown",
   "metadata": {},
   "source": [
    "This is generally used when you want to check a small number of values and treat them differently"
   ]
  },
  {
   "cell_type": "code",
   "execution_count": 18,
   "metadata": {},
   "outputs": [
    {
     "name": "stdout",
     "output_type": "stream",
     "text": [
      "OK\n"
     ]
    }
   ],
   "source": [
    "status_code = 200\n",
    "match(status_code):\n",
    "    case 200: \n",
    "        print(\"OK\")\n",
    "    case 404:\n",
    "        print(\"Not Found\")\n",
    "    case 500:\n",
    "        print(\"Internal server error\")\n",
    "    case _:\n",
    "        print(\"Sorry, I could not recognize this status code\")"
   ]
  }
 ],
 "metadata": {
  "kernelspec": {
   "display_name": "Python 3",
   "language": "python",
   "name": "python3"
  },
  "language_info": {
   "codemirror_mode": {
    "name": "ipython",
    "version": 3
   },
   "file_extension": ".py",
   "mimetype": "text/x-python",
   "name": "python",
   "nbconvert_exporter": "python",
   "pygments_lexer": "ipython3",
   "version": "3.11.6"
  },
  "orig_nbformat": 4
 },
 "nbformat": 4,
 "nbformat_minor": 2
}
